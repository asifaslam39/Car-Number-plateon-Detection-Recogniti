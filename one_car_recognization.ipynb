{
 "cells": [
  {
   "cell_type": "code",
   "execution_count": 4,
   "id": "a25bead2-2784-49e5-a301-f24806c52771",
   "metadata": {},
   "outputs": [
    {
     "name": "stdout",
     "output_type": "stream",
     "text": [
      "Car belongs to Delhi\n",
      "Plate Number: DL7C01939\n"
     ]
    }
   ],
   "source": [
    "import cv2\n",
    "import numpy as np\n",
    "import pytesseract\n",
    "\n",
    "# Load the pre-trained model for license plate detection\n",
    "plate_cascade = cv2.CascadeClassifier(cv2.data.haarcascades + 'haarcascade_russian_plate_number.xml')\n",
    "\n",
    "stats={\n",
    "    \"AN\": \"Andaman and Nicobar Islands\",\"AP\": \"Andhra Pradesh\",\"AR\": \"Arunachal Pradesh\",\n",
    "    \"AS\": \"Assam\",\"BR\": \"Bihar\",\"CH\": \"Chandigarh\",\"CT\": \"Chhattisgarh\",\n",
    "    \"DD\": \"Dadra and Nagar Haveli and Daman and Diu\",\"DL\": \"Delhi\",\"DN\": \"Dadra and Nagar Haveli\",\n",
    "    \"GA\": \"Goa\",\"GJ\": \"Gujarat\",\"HP\": \"Himachal Pradesh\",\"HR\": \"Haryana\",\"JH\": \"Jharkhand\",\n",
    "    \"JK\": \"Jammu and Kashmir\",\"KA\": \"Karnataka\",\"KL\": \"Kerala\",\"LA\": \"Ladakh\",\n",
    "    \"LD\": \"Lakshadweep\",\"MH\": \"Maharashtra\",\"MN\": \"Manipur\",\"ML\": \"Meghalaya\",\n",
    "    \"MZ\": \"Mizoram\",\"NL\": \"Nagaland\",\"OD\": \"Odisha\",\"PB\": \"Punjab\",\n",
    "    \"PY\": \"Puducherry\",\"RJ\": \"Rajasthan\",\"SK\": \"Sikkim\",\n",
    "    \"TN\": \"Tamil Nadu\",\"TR\": \"Tripura\",\"UP\": \"Uttar Pradesh\",\n",
    "    \"UT\": \"Uttarakhand\",\"WB\": \"West Bengal\"}\n",
    "def extract_num(img_name):\n",
    "    global read\n",
    "    img=cv2.imread(img_name)\n",
    "    if img is None:\n",
    "        print(\"Error: Image not found or unable to open.\")\n",
    "        return\n",
    "    gray=cv2.cvtColor(img, cv2.COLOR_BGR2GRAY)\n",
    "    plates=plate_cascade.detectMultiScale(gray, scaleFactor=1.1, minNeighbors=4, minSize=(30, 30), flags=cv2.CASCADE_SCALE_IMAGE)\n",
    "\n",
    "    for x, y, w, h in plates:\n",
    "        a, b=(int(0.02 * img.shape[0])), (int(0.05 * img.shape[1]))\n",
    "        plate=img[y+a:y+h-a, x+b:x+w-b]\n",
    "        kernel=np.ones((1, 1), np.uint8)\n",
    "        plate=cv2.dilate(plate, kernel, iterations=1)\n",
    "        plate=cv2.erode(plate, kernel, iterations=1)\n",
    "        plate_gray=cv2.cvtColor(plate, cv2.COLOR_BGR2GRAY)\n",
    "        _, plate=cv2.threshold(plate_gray, 127, 255, cv2.THRESH_BINARY)\n",
    "        read=pytesseract.image_to_string(plate)\n",
    "        read=''.join(e for e in read if e.isalnum())\n",
    "        stat=read[0:2]\n",
    "        try:\n",
    "            print('Car belongs to', stats[stat])\n",
    "        except KeyError:\n",
    "            print(\"State not recognized\")\n",
    "        print(\"Plate Number:\", read)\n",
    "        # Draw rectangles and put the text on the original image\n",
    "        cv2.rectangle(img, (x, y), (x+w, y+h), (51, 51, 255), 2)\n",
    "        cv2.rectangle(img, (x, y-40), (x+w, y), (51, 51, 255), -1)\n",
    "        cv2.putText(img, read, (x, y-10), cv2.FONT_HERSHEY_COMPLEX, 1, (255, 255, 255), 2)\n",
    "        cv2.imshow('Plate', plate)\n",
    "    cv2.imshow(\"Result\", img)\n",
    "    # Save the result image\n",
    "    cv2.imwrite(\"result.jpg\", img)\n",
    "    cv2.waitKey(0)\n",
    "    cv2.destroyAllWindows()\n",
    "extract_num(\"c:/ML/a7sp8ji_high-security-number-plates_625x300_12_October_18.webp\")"
   ]
  },
  {
   "cell_type": "code",
   "execution_count": null,
   "id": "0c2c8ec5-23b9-4ede-8fb4-8aa1e063a3b9",
   "metadata": {},
   "outputs": [],
   "source": []
  }
 ],
 "metadata": {
  "kernelspec": {
   "display_name": "Python 3 (ipykernel)",
   "language": "python",
   "name": "python3"
  },
  "language_info": {
   "codemirror_mode": {
    "name": "ipython",
    "version": 3
   },
   "file_extension": ".py",
   "mimetype": "text/x-python",
   "name": "python",
   "nbconvert_exporter": "python",
   "pygments_lexer": "ipython3",
   "version": "3.11.4"
  }
 },
 "nbformat": 4,
 "nbformat_minor": 5
}
