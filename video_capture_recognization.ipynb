{
 "cells": [
  {
   "cell_type": "code",
   "execution_count": 1,
   "id": "355353b6-9246-488c-b7e1-429c046bdef6",
   "metadata": {
    "tags": []
   },
   "outputs": [
    {
     "name": "stderr",
     "output_type": "stream",
     "text": [
      "C:\\Users\\DELL\\AppData\\Roaming\\Python\\Python311\\site-packages\\pandas\\core\\arrays\\masked.py:60: UserWarning: Pandas requires version '1.3.6' or newer of 'bottleneck' (version '1.3.5' currently installed).\n",
      "  from pandas.core import (\n"
     ]
    }
   ],
   "source": [
    "import cv2\n",
    "import numpy as np\n",
    "import pytesseract\n",
    "import os\n",
    "import csv\n",
    "import time\n",
    "pytesseract.pytesseract.tesseract_cmd = r\"C:\\Program Files\\Tesseract-OCR\\tesseract.exe\"\n",
    "plate_cascade = cv2.CascadeClassifier(cv2.data.haarcascades + 'haarcascade_russian_plate_number.xml')\n",
    "\n",
    "# Dictionary for state codes\n",
    "stats = {\n",
    "    \"AN\": \"Andaman and Nicobar Islands\",\"AP\": \"Andhra Pradesh\",\"AR\": \"Arunachal Pradesh\",\n",
    "    \"AS\": \"Assam\",\"BR\": \"Bihar\",\"CH\": \"Chandigarh\",\"CT\": \"Chhattisgarh\",\n",
    "    \"DD\": \"Dadra and Nagar Haveli and Daman and Diu\",\"DL\": \"Delhi\",\"DN\": \"Dadra and Nagar Haveli\",\n",
    "    \"GA\": \"Goa\",\"GJ\": \"Gujarat\",\"HP\": \"Himachal Pradesh\",\"HR\": \"Haryana\",\"JH\": \"Jharkhand\",\n",
    "    \"JK\": \"Jammu and Kashmir\",\"KA\": \"Karnataka\",\"KL\": \"Kerala\",\"LA\": \"Ladakh\",\n",
    "    \"LD\": \"Lakshadweep\",\"MH\": \"Maharashtra\",\"MN\": \"Manipur\",\"ML\": \"Meghalaya\",\n",
    "    \"MZ\": \"Mizoram\",\"NL\": \"Nagaland\",\"OD\": \"Odisha\",\"PB\": \"Punjab\",\n",
    "    \"PY\": \"Puducherry\",\"RJ\": \"Rajasthan\",\"SK\": \"Sikkim\",\n",
    "    \"TN\": \"Tamil Nadu\",\"TR\": \"Tripura\",\"UP\": \"Uttar Pradesh\",\"UT\": \"Uttarakhand\",\"WB\": \"West Bengal\"\n",
    "}\n",
    "cap=cv2.VideoCapture(0)\n",
    "with open('results/results.csv', 'w', newline='') as file:\n",
    "    writer=csv.DictWriter(file, fieldnames=[\"image_name\", \"plate_number\", \"state\"])\n",
    "    writer.writeheader()\n",
    "    while True:\n",
    "        # Capture frame-by-frame\n",
    "        ret, frame=cap.read()\n",
    "        if not ret:\n",
    "            print(\"Error: Unable to capture video frame.\")\n",
    "            break\n",
    "        gray=cv2.cvtColor(frame, cv2.COLOR_BGR2GRAY)\n",
    "        plates=plate_cascade.detectMultiScale(gray, scaleFactor=1.1, minNeighbors=4, minSize=(30, 30), flags=cv2.CASCADE_SCALE_IMAGE)\n",
    "        for x, y, w, h in plates:\n",
    "            a, b=(int(0.02 * frame.shape[0])), (int(0.05 * frame.shape[1]))\n",
    "            plate=frame[y+a:y+h-a, x+b:x+w-b]\n",
    "            kernel=np.ones((1, 1), np.uint8)\n",
    "            plate=cv2.dilate(plate, kernel, iterations=1)\n",
    "            plate=cv2.erode(plate, kernel, iterations=1)\n",
    "            plate_gray=cv2.cvtColor(plate, cv2.COLOR_BGR2GRAY)\n",
    "            flag, plate=cv2.threshold(plate_gray, 127, 255, cv2.THRESH_BINARY)\n",
    "            plate_number=pytesseract.image_to_string(plate, config='--psm 8').strip()\n",
    "            if plate_number:\n",
    "                stat=plate_number[:2]\n",
    "                state=stats.get(stat, \"State not recognized\")\n",
    "                \n",
    "                # Draw rectangle and text\n",
    "                cv2.rectangle(frame, (x, y), (x+w, y+h), (51, 51, 255), 2)\n",
    "                cv2.rectangle(frame, (x, y-40), (x+w, y), (51, 51, 255), -1)\n",
    "                cv2.putText(frame, plate_number, (x, y-10), cv2.FONT_HERSHEY_COMPLEX, 1, (255, 255, 255), 2)\n",
    "\n",
    "                writer.writerow({\n",
    "                    \"image_name\": f\"frame_{int(time.time())}.jpg\",\n",
    "                    \"plate_number\": plate_number,\n",
    "                    \"state\": state\n",
    "                })\n",
    "        cv2.putText(frame,\"press 'c' for exit\" , (100,100), cv2.FONT_HERSHEY_COMPLEX, 1, (0, 0,0), 2)\n",
    "        cv2.imshow('License Plate Recognition', frame)\n",
    "        if cv2.waitKey(1) & 0xFF==ord('c'):\n",
    "            break\n",
    "cap.release()\n",
    "cv2.destroyAllWindows()"
   ]
  },
  {
   "cell_type": "code",
   "execution_count": 2,
   "id": "69b7519a-7073-4279-97b2-9b67daaa8318",
   "metadata": {},
   "outputs": [
    {
     "ename": "error",
     "evalue": "OpenCV(4.10.0) D:\\a\\opencv-python\\opencv-python\\opencv\\modules\\imgproc\\src\\color.cpp:196: error: (-215:Assertion failed) !_src.empty() in function 'cv::cvtColor'\n",
     "output_type": "error",
     "traceback": [
      "\u001b[1;31m---------------------------------------------------------------------------\u001b[0m",
      "\u001b[1;31merror\u001b[0m                                     Traceback (most recent call last)",
      "Cell \u001b[1;32mIn[2], line 19\u001b[0m\n\u001b[0;32m     16\u001b[0m \u001b[38;5;28;01mwhile\u001b[39;00m \u001b[38;5;28;01mTrue\u001b[39;00m:\n\u001b[0;32m     17\u001b[0m     success , img  \u001b[38;5;241m=\u001b[39m cap\u001b[38;5;241m.\u001b[39mread()\n\u001b[1;32m---> 19\u001b[0m     imgGray \u001b[38;5;241m=\u001b[39m cv2\u001b[38;5;241m.\u001b[39mcvtColor(img, cv2\u001b[38;5;241m.\u001b[39mCOLOR_BGR2GRAY)\n\u001b[0;32m     21\u001b[0m     numberPlates \u001b[38;5;241m=\u001b[39m plateCascade\u001b[38;5;241m.\u001b[39mdetectMultiScale(imgGray, \u001b[38;5;241m1.1\u001b[39m, \u001b[38;5;241m4\u001b[39m)\n\u001b[0;32m     23\u001b[0m     \u001b[38;5;28;01mfor\u001b[39;00m (x, y, w, h) \u001b[38;5;129;01min\u001b[39;00m numberPlates:\n",
      "\u001b[1;31merror\u001b[0m: OpenCV(4.10.0) D:\\a\\opencv-python\\opencv-python\\opencv\\modules\\imgproc\\src\\color.cpp:196: error: (-215:Assertion failed) !_src.empty() in function 'cv::cvtColor'\n"
     ]
    }
   ],
   "source": [
    "import cv2\n",
    "\n",
    "# frameWidth = 640   #Frame Width\n",
    "frameWidth = 1000   #Frame Width\n",
    "franeHeight = 480   # Frame Height\n",
    "\n",
    "plateCascade = cv2.CascadeClassifier(\"haarcascade_russian_plate_number.xml\")\n",
    "minArea = 500\n",
    "\n",
    "cap =cv2.VideoCapture(\"c:/number_plate/WhatsApp Video 2024-08-30 at 19.41.21_ac101886.mp4\")\n",
    "cap.set(3,frameWidth)\n",
    "cap.set(4,franeHeight)\n",
    "cap.set(10,150)\n",
    "count = 0\n",
    "\n",
    "while True:\n",
    "    success , img  = cap.read()\n",
    "\n",
    "    imgGray = cv2.cvtColor(img, cv2.COLOR_BGR2GRAY)\n",
    "\n",
    "    numberPlates = plateCascade.detectMultiScale(imgGray, 1.1, 4)\n",
    "\n",
    "    for (x, y, w, h) in numberPlates:\n",
    "        area = w*h\n",
    "        if area > minArea:\n",
    "            cv2.rectangle(img, (x, y), (x + w, y + h), (255, 0, 0), 2)\n",
    "            cv2.putText(img,\"NumberPlate\",(x,y-5),cv2.FONT_HERSHEY_COMPLEX,1,(0,0,255),1)\n",
    "            imgRoi = img[y:y+h,x:x+w]\n",
    "            cv2.imshow(\"Number Plate\",imgRoi)\n",
    "    cv2.imshow(\"Result\",img)\n",
    "    if cv2.waitKey(1) & 0xFF ==ord('s'):\n",
    "        cv2.imwrite(f\".\\IMAGES\\{str(count)}.jpg\",imgRoi)\n",
    "        cv2.rectangle(img,(0,200),(640,300),(0,255,0),cv2.FILLED)\n",
    "        cv2.putText(img,\"Scan Saved\",(15,265),cv2.FONT_HERSHEY_COMPLEX,2,(0,0,255),2)\n",
    "        cv2.imshow(\"Result\",img)\n",
    "        cv2.waitKey(500)\n",
    "    if cv2.waitKey(1) & 0xFF==ord('c'):\n",
    "        break\n",
    "        count+=1\n",
    "cap.release()\n",
    "cv2.destroyAllWindows()"
   ]
  },
  {
   "cell_type": "code",
   "execution_count": null,
   "id": "f2f5d7b4-e4e5-4ad5-9d1c-db2452b68e8a",
   "metadata": {},
   "outputs": [],
   "source": []
  }
 ],
 "metadata": {
  "kernelspec": {
   "display_name": "Python 3 (ipykernel)",
   "language": "python",
   "name": "python3"
  },
  "language_info": {
   "codemirror_mode": {
    "name": "ipython",
    "version": 3
   },
   "file_extension": ".py",
   "mimetype": "text/x-python",
   "name": "python",
   "nbconvert_exporter": "python",
   "pygments_lexer": "ipython3",
   "version": "3.11.4"
  }
 },
 "nbformat": 4,
 "nbformat_minor": 5
}
