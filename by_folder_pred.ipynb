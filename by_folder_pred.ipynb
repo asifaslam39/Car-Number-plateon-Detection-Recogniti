{
 "cells": [
  {
   "cell_type": "code",
   "execution_count": 1,
   "id": "30aa177c-0ad6-49a5-8601-f606be9e0000",
   "metadata": {
    "tags": []
   },
   "outputs": [
    {
     "name": "stderr",
     "output_type": "stream",
     "text": [
      "C:\\Users\\DELL\\AppData\\Roaming\\Python\\Python311\\site-packages\\pandas\\core\\arrays\\masked.py:60: UserWarning: Pandas requires version '1.3.6' or newer of 'bottleneck' (version '1.3.5' currently installed).\n",
      "  from pandas.core import (\n"
     ]
    }
   ],
   "source": [
    "import cv2\n",
    "import numpy as np\n",
    "import pytesseract\n",
    "import os"
   ]
  },
  {
   "cell_type": "code",
   "execution_count": 2,
   "id": "16de35f0-e89c-40df-9752-44b6dbe30d24",
   "metadata": {
    "tags": []
   },
   "outputs": [],
   "source": [
    "pytesseract.pytesseract.tesseract_cmd = r\"C:\\Program Files\\Tesseract-OCR\\tesseract.exe\"\n",
    "plate_cascade = cv2.CascadeClassifier(cv2.data.haarcascades + 'haarcascade_russian_plate_number.xml')"
   ]
  },
  {
   "cell_type": "code",
   "execution_count": 4,
   "id": "c62391e3-1cc4-4d5c-ad8f-09e8367d5050",
   "metadata": {
    "tags": []
   },
   "outputs": [
    {
     "name": "stdout",
     "output_type": "stream",
     "text": [
      "Warning: Extracted plate from c:/number_plate/images/N1.jpeg is empty.\n",
      "Warning: Extracted plate from c:/number_plate/images/N1.jpeg is empty.\n",
      "Warning: Extracted plate from c:/number_plate/images/N1.jpeg is empty.\n",
      "Warning: Extracted plate from c:/number_plate/images/N1.jpeg is empty.\n",
      "Warning: Extracted plate from c:/number_plate/images/N1.jpeg is empty.\n",
      "Warning: Extracted plate from c:/number_plate/images/N103.jpeg is empty.\n",
      "Warning: Extracted plate from c:/number_plate/images/N12.jpeg is empty.\n",
      "Warning: Extracted plate from c:/number_plate/images/N133.jpeg is empty.\n",
      "Warning: Extracted plate from c:/number_plate/images/N133.jpeg is empty.\n",
      "Warning: Extracted plate from c:/number_plate/images/N133.jpeg is empty.\n",
      "Warning: Extracted plate from c:/number_plate/images/N136.jpeg is empty.\n",
      "Warning: Extracted plate from c:/number_plate/images/N136.jpeg is empty.\n",
      "Warning: Extracted plate from c:/number_plate/images/N14.jpeg is empty.\n",
      "Warning: Extracted plate from c:/number_plate/images/N15.jpeg is empty.\n",
      "Warning: Extracted plate from c:/number_plate/images/N16.jpeg is empty.\n",
      "Warning: Extracted plate from c:/number_plate/images/N188.jpeg is empty.\n",
      "Warning: Extracted plate from c:/number_plate/images/N188.jpeg is empty.\n",
      "Warning: Extracted plate from c:/number_plate/images/N188.jpeg is empty.\n",
      "Warning: Extracted plate from c:/number_plate/images/N188.jpeg is empty.\n",
      "Warning: Extracted plate from c:/number_plate/images/N2.jpeg is empty.\n",
      "Warning: Extracted plate from c:/number_plate/images/N22.jpeg is empty.\n",
      "Warning: Extracted plate from c:/number_plate/images/N225.jpeg is empty.\n",
      "Warning: Extracted plate from c:/number_plate/images/N28.jpeg is empty.\n",
      "Warning: Extracted plate from c:/number_plate/images/N30.jpeg is empty.\n",
      "Warning: Extracted plate from c:/number_plate/images/N30.jpeg is empty.\n",
      "Warning: Extracted plate from c:/number_plate/images/N30.jpeg is empty.\n",
      "Warning: Extracted plate from c:/number_plate/images/N34.jpeg is empty.\n",
      "Warning: Extracted plate from c:/number_plate/images/N4.jpeg is empty.\n",
      "Warning: Extracted plate from c:/number_plate/images/N4.jpeg is empty.\n",
      "Warning: Extracted plate from c:/number_plate/images/N4.jpeg is empty.\n",
      "Warning: Extracted plate from c:/number_plate/images/N5.jpeg is empty.\n",
      "Warning: Extracted plate from c:/number_plate/images/N5.jpeg is empty.\n",
      "Warning: Extracted plate from c:/number_plate/images/N5.jpeg is empty.\n",
      "Warning: Extracted plate from c:/number_plate/images/N6.jpeg is empty.\n",
      "Warning: Extracted plate from c:/number_plate/images/N6.jpeg is empty.\n",
      "Warning: Extracted plate from c:/number_plate/images/N8.jpeg is empty.\n"
     ]
    },
    {
     "ename": "NameError",
     "evalue": "name 'csv' is not defined",
     "output_type": "error",
     "traceback": [
      "\u001b[1;31m---------------------------------------------------------------------------\u001b[0m",
      "\u001b[1;31mNameError\u001b[0m                                 Traceback (most recent call last)",
      "Cell \u001b[1;32mIn[4], line 86\u001b[0m\n\u001b[0;32m     82\u001b[0m         \u001b[38;5;28mprint\u001b[39m(\u001b[38;5;124m\"\u001b[39m\u001b[38;5;124mNo results to save.\u001b[39m\u001b[38;5;124m\"\u001b[39m)\n\u001b[0;32m     84\u001b[0m \u001b[38;5;66;03m# enter your folder name whre is your data is [persent\u001b[39;00m\n\u001b[1;32m---> 86\u001b[0m process_images(\u001b[38;5;124m\"\u001b[39m\u001b[38;5;124mc:/number_plate/images/\u001b[39m\u001b[38;5;124m\"\u001b[39m)\n",
      "Cell \u001b[1;32mIn[4], line 77\u001b[0m, in \u001b[0;36mprocess_images\u001b[1;34m(folder_path)\u001b[0m\n\u001b[0;32m     75\u001b[0m \u001b[38;5;28;01mif\u001b[39;00m results:\n\u001b[0;32m     76\u001b[0m     \u001b[38;5;28;01mwith\u001b[39;00m \u001b[38;5;28mopen\u001b[39m(\u001b[38;5;124m'\u001b[39m\u001b[38;5;124mresults/results.csv\u001b[39m\u001b[38;5;124m'\u001b[39m, \u001b[38;5;124m'\u001b[39m\u001b[38;5;124mw\u001b[39m\u001b[38;5;124m'\u001b[39m, newline\u001b[38;5;241m=\u001b[39m\u001b[38;5;124m'\u001b[39m\u001b[38;5;124m'\u001b[39m) \u001b[38;5;28;01mas\u001b[39;00m file:\n\u001b[1;32m---> 77\u001b[0m         writer \u001b[38;5;241m=\u001b[39m csv\u001b[38;5;241m.\u001b[39mDictWriter(file, fieldnames\u001b[38;5;241m=\u001b[39m[\u001b[38;5;124m\"\u001b[39m\u001b[38;5;124mimage_name\u001b[39m\u001b[38;5;124m\"\u001b[39m, \u001b[38;5;124m\"\u001b[39m\u001b[38;5;124mplate_number\u001b[39m\u001b[38;5;124m\"\u001b[39m, \u001b[38;5;124m\"\u001b[39m\u001b[38;5;124mstate\u001b[39m\u001b[38;5;124m\"\u001b[39m])\n\u001b[0;32m     78\u001b[0m         writer\u001b[38;5;241m.\u001b[39mwriteheader()\n\u001b[0;32m     79\u001b[0m         writer\u001b[38;5;241m.\u001b[39mwriterows(results)\n",
      "\u001b[1;31mNameError\u001b[0m: name 'csv' is not defined"
     ]
    }
   ],
   "source": [
    "stats = {\n",
    "    \"AN\": \"Andaman and Nicobar Islands\",\"AP\": \"Andhra Pradesh\",\"AR\": \"Arunachal Pradesh\",\n",
    "    \"AS\": \"Assam\",\"BR\": \"Bihar\",\"CH\": \"Chandigarh\",\"CT\": \"Chhattisgarh\",\n",
    "    \"DD\": \"Dadra and Nagar Haveli and Daman and Diu\",\"DL\": \"Delhi\",\"DN\": \"Dadra and Nagar Haveli\",\n",
    "    \"GA\": \"Goa\",\"GJ\": \"Gujarat\",\"HP\": \"Himachal Pradesh\",\"HR\": \"Haryana\",\"JH\": \"Jharkhand\",\n",
    "    \"JK\": \"Jammu and Kashmir\",\"KA\": \"Karnataka\",\"KL\": \"Kerala\",\"LA\": \"Ladakh\",\n",
    "    \"LD\": \"Lakshadweep\",\"MH\": \"Maharashtra\",\"MN\": \"Manipur\",\"ML\": \"Meghalaya\",\n",
    "    \"MZ\": \"Mizoram\",\"NL\": \"Nagaland\",\"OD\": \"Odisha\",\"PB\": \"Punjab\",\n",
    "    \"PY\": \"Puducherry\",\"RJ\": \"Rajasthan\",\"SK\": \"Sikkim\",\n",
    "    \"TN\": \"Tamil Nadu\",\"TR\": \"Tripura\",\"UP\": \"Uttar Pradesh\",\n",
    "    \"UT\": \"Uttarakhand\",\"WB\": \"West Bengal\"\n",
    "}\n",
    "\n",
    "def extract_num(img_name):\n",
    "    img = cv2.imread(img_name)\n",
    "    if img is None:\n",
    "        print(f\"Error: Image {img_name} not found or unable to open.\")\n",
    "        return None, None, None\n",
    "\n",
    "    gray = cv2.cvtColor(img, cv2.COLOR_BGR2GRAY)\n",
    "    plates = plate_cascade.detectMultiScale(gray, scaleFactor=1.1, minNeighbors=4, minSize=(30, 30), flags=cv2.CASCADE_SCALE_IMAGE)\n",
    "\n",
    "    plate_number = None\n",
    "    state = None\n",
    "\n",
    "    for x, y, w, h in plates:\n",
    "        a, b = int(0.02 * img.shape[0]), int(0.05 * img.shape[1])\n",
    "        plate = img[y+a:y+h-a, x+b:x+w-b]\n",
    "\n",
    "        if plate.size == 0:\n",
    "            print(f\"Warning: Extracted plate from {img_name} is empty.\")\n",
    "            continue\n",
    "\n",
    "        kernel=np.ones((1, 1), np.uint8)\n",
    "        plate=cv2.dilate(plate, kernel, iterations=1)\n",
    "        plate=cv2.erode(plate, kernel, iterations=1)\n",
    "        plate_gray=cv2.cvtColor(plate, cv2.COLOR_BGR2GRAY)\n",
    "\n",
    "        _, plate=cv2.threshold(plate_gray, 127, 255, cv2.THRESH_BINARY)\n",
    "\n",
    "        read=pytesseract.image_to_string(plate, config='--psm 8').strip()  # Use PSM 8 for single word/text line\n",
    "        plate_number = read if read else \"Not detected\"\n",
    "\n",
    "        stat = plate_number[:2]\n",
    "        state = stats.get(stat, \"State not recognized\")\n",
    "\n",
    "        cv2.rectangle(img, (x, y), (x+w, y+h), (51, 51, 255), 2)\n",
    "        cv2.rectangle(img, (x, y-40), (x+w, y), (51, 51, 255), -1)\n",
    "        cv2.putText(img, plate_number, (x, y-10), cv2.FONT_HERSHEY_COMPLEX, 1, (255, 255, 255), 2)\n",
    "\n",
    "    if not os.path.exists('results'):\n",
    "        os.makedirs('results')\n",
    "\n",
    "    cv2.imwrite(f\"results/{os.path.basename(img_name)}\", img)\n",
    "    cv2.destroyAllWindows()\n",
    "\n",
    "    return plate_number, state, os.path.basename(img_name)\n",
    "\n",
    "def process_images(folder_path):\n",
    "    results = []\n",
    "    if not os.path.exists(folder_path):\n",
    "        print(f\"Error: Folder {folder_path} does not exist.\")\n",
    "        return\n",
    "\n",
    "    for img_file in os.listdir(folder_path):\n",
    "        img_path = os.path.join(folder_path, img_file)\n",
    "        plate_number, state, image_name = extract_num(img_path)\n",
    "        if plate_number:\n",
    "            results.append({\n",
    "                \"image_name\": image_name,\n",
    "                \"plate_number\": plate_number,\n",
    "                \"state\": state\n",
    "            })\n",
    "\n",
    "    if results:\n",
    "        with open('results/results.csv', 'w', newline='') as file:\n",
    "            writer = csv.DictWriter(file, fieldnames=[\"image_name\", \"plate_number\", \"state\"])\n",
    "            writer.writeheader()\n",
    "            writer.writerows(results)\n",
    "        print(\"Processing complete. Results saved to results/results.csv.\")\n",
    "    else:\n",
    "        print(\"No results to save.\")\n",
    "\n",
    "# enter your folder name whre is your data is [persent\n",
    "\n",
    "process_images(\"c:/number_plate/images/\")"
   ]
  },
  {
   "cell_type": "code",
   "execution_count": 5,
   "id": "846d3654-0368-47ac-86b2-0232deb2db8e",
   "metadata": {},
   "outputs": [],
   "source": [
    "# 🚗 Excited to Share My Latest Project: Car Number Plate Detection and Recognition! 🚗\n",
    "\n",
    "# I’m thrilled to present my recent project focused on car number plate detection and recognition. This project leverages advanced image processing techniques to identify and record vehicle number plates, and I’ve implemented it across different formats:\n",
    "\n",
    "# Image-Based Detection: The system can process static images to detect and recognize number plates.\n",
    "# Video/Camera Integration: It handles real-time video feeds or camera inputs to identify plates on-the-fly.\n",
    "# Folder Processing: It scans through a folder of car images, detecting and recognizing number plates from multiple files.\n",
    "# Key Features:\n",
    "# Detection & Recognition: Utilizes [mention specific algorithms or libraries, e.g., OpenCV, Tesseract OCR, etc.] to accurately detect and recognize number plates.\n",
    "# Data Management: Extracted number plates are recorded in a CSV file for easy data manipulation and analysis.\n",
    "# Image Organization: Detected number plate images are stored in a separate folder for further reference or use.\n",
    "# Technical Highlights:\n",
    "# Technologies Used: [List the technologies, libraries, or frameworks used, such as Python, OpenCV, TensorFlow, etc.]\n",
    "# Challenges Overcome: [Briefly mention any significant challenges you faced and how you addressed them.]\n",
    "# This project not only enhances vehicle monitoring capabilities but also demonstrates the potential for automation in vehicle identification tasks.\n",
    "\n",
    "# 📁 Project Files: For those interested, I’ve made the code and sample data available [provide a link if applicable, e.g., GitHub repository].\n",
    "\n",
    "# I’m excited about the potential applications of this technology and welcome any feedback or questions!\n",
    "\n",
    "# #MachineLearning #ComputerVision #ImageProcessing #OpenCV #OCR #DataScience #AI #VehicleRecognition #Python\n",
    "\n"
   ]
  },
  {
   "cell_type": "code",
   "execution_count": null,
   "id": "93262e90-c04b-4de7-a746-7dced7ba38e6",
   "metadata": {},
   "outputs": [],
   "source": []
  }
 ],
 "metadata": {
  "kernelspec": {
   "display_name": "Python 3 (ipykernel)",
   "language": "python",
   "name": "python3"
  },
  "language_info": {
   "codemirror_mode": {
    "name": "ipython",
    "version": 3
   },
   "file_extension": ".py",
   "mimetype": "text/x-python",
   "name": "python",
   "nbconvert_exporter": "python",
   "pygments_lexer": "ipython3",
   "version": "3.11.4"
  }
 },
 "nbformat": 4,
 "nbformat_minor": 5
}
